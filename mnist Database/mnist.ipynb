{
 "cells": [
  {
   "cell_type": "markdown",
   "id": "57513d2e",
   "metadata": {},
   "source": [
    "## Importing Libraries"
   ]
  },
  {
   "cell_type": "code",
   "execution_count": 1,
   "id": "296e324d",
   "metadata": {},
   "outputs": [],
   "source": [
    "# Import necessary libraries\n",
    "import numpy as np\n",
    "import matplotlib.pyplot as plt\n",
    "from tensorflow.keras.datasets import mnist\n",
    "from sklearn.naive_bayes import GaussianNB\n",
    "from sklearn.feature_selection import VarianceThreshold"
   ]
  },
  {
   "cell_type": "markdown",
   "id": "2a47a7b5",
   "metadata": {},
   "source": [
    "## Importing data with improvements"
   ]
  },
  {
   "cell_type": "code",
   "execution_count": 2,
   "id": "85963564",
   "metadata": {},
   "outputs": [
    {
     "name": "stdout",
     "output_type": "stream",
     "text": [
      "Downloading data from https://storage.googleapis.com/tensorflow/tf-keras-datasets/mnist.npz\n",
      "11493376/11490434 [==============================] - 3s 0us/step\n",
      "11501568/11490434 [==============================] - 3s 0us/step\n"
     ]
    }
   ],
   "source": [
    "if __name__ == \"__main__\":\n",
    "    # Load the MNIST dataset\n",
    "    (x_train, y_train), (x_test, y_test) = mnist.load_data()\n",
    "\n",
    "    # Reshape the data to a 2D array for the classifier\n",
    "    x_train = x_train.reshape(60000, 784)   #28 * 28 = 784\n",
    "    x_test = x_test.reshape(10000, 784)"
   ]
  },
  {
   "cell_type": "code",
   "execution_count": 3,
   "id": "1d35735d",
   "metadata": {},
   "outputs": [],
   "source": [
    "# Remove features with zero variance\n",
    "sel = VarianceThreshold()\n",
    "x_train = sel.fit_transform(x_train)\n",
    "x_test = sel.transform(x_test)"
   ]
  },
  {
   "cell_type": "markdown",
   "id": "1888705e",
   "metadata": {},
   "source": [
    "## Forward Selection"
   ]
  },
  {
   "cell_type": "code",
   "execution_count": 4,
   "id": "f65ba1e5",
   "metadata": {},
   "outputs": [],
   "source": [
    "def forwad_selection(x_train, y_train, x_test, y_test):\n",
    "    \"\"\"\n",
    "    This function performs forward feature selection to select the best features for the Naive Bayes classifier.\n",
    "    \"\"\"\n",
    "    # Initialize an empty set to hold the selected features\n",
    "    selected_features = set()\n",
    "\n",
    "    # Define the number of features to select\n",
    "    num_features = 40\n",
    "\n",
    "    # Initialize lists to hold the accuracy and number of selected features\n",
    "    accuracy_list = []\n",
    "    num_selected_features_list = []\n",
    "\n",
    "    # Loop until the desired number of features have been selected\n",
    "    for i in range(num_features):\n",
    "        best_accuracy = 0\n",
    "        best_feature = None\n",
    "        \n",
    "        # For each feature in the dataset, train a Naive Bayes classifier using that feature along with the features already selected, and evaluate its performance on the validation set\n",
    "        for feature in range(x_train.shape[1]):\n",
    "            if feature not in selected_features:\n",
    "                features = list(selected_features) + [feature]\n",
    "                nb_model = train_nb_classifier(x_train, y_train, features)\n",
    "                x_val_subset = x_test[:, features]\n",
    "                accuracy = nb_model.score(x_val_subset, y_test)\n",
    "                \n",
    "                # Choose the feature that gives the best performance\n",
    "                if accuracy > best_accuracy:\n",
    "                    best_accuracy = accuracy\n",
    "                    best_feature = feature\n",
    "        \n",
    "        # Add the selected feature to the set and remove it from the feature pool\n",
    "        selected_features.add(best_feature)\n",
    "        \n",
    "        # Print the selected feature and its validation accuracy\n",
    "        print(f\"Selected feature {i+1}: {best_feature}, validation accuracy: {best_accuracy}\")\n",
    "        \n",
    "        nb_model = train_nb_classifier(x_train, y_train, list(selected_features))\n",
    "        x_test_subset = x_test[:, list(selected_features)]\n",
    "        accuracy = nb_model.score(x_test_subset, y_test)\n",
    "        \n",
    "        # Append the accuracy and number of selected features to the lists\n",
    "        accuracy_list.append(accuracy)\n",
    "        num_selected_features_list.append(len(selected_features))\n",
    "        \n",
    "    # Train a final classifier using the selected features and evaluate its performance on the test set\n",
    "    selected_features = list(selected_features)\n",
    "    nb_model = train_nb_classifier(x_train, y_train, selected_features)\n",
    "    x_test_subset = x_test[:, selected_features]\n",
    "    accuracy = nb_model.score(x_test_subset, y_test)\n",
    "    print(f\"Final accuracy on the test set using {num_features} features: {accuracy}\")\n",
    "    \n",
    "    return selected_features, accuracy_list, num_selected_features_list"
   ]
  },
  {
   "cell_type": "markdown",
   "id": "55f92e8f",
   "metadata": {},
   "source": [
    "## Model and Training"
   ]
  },
  {
   "cell_type": "code",
   "execution_count": 7,
   "id": "a31a052b",
   "metadata": {},
   "outputs": [],
   "source": [
    "def train_nb_classifier(x_train, y_train, features):\n",
    "    \"\"\"\n",
    "    This function trains a Naive Bayes classifier using a subset of features.\n",
    "    \"\"\"\n",
    "    # Select the subset of features from the training set\n",
    "    x_train_subset = x_train[:, features]\n",
    "    \n",
    "    # Initialize the Naive Bayes model with a small variance smoothing\n",
    "    nb_model = GaussianNB(var_smoothing=1e-9)\n",
    "    \n",
    "    # Fit the model to the training data\n",
    "    nb_model.fit(x_train_subset, y_train)\n",
    "    \n",
    "    return nb_model\n"
   ]
  },
  {
   "cell_type": "code",
   "execution_count": 8,
   "id": "fc1e721b",
   "metadata": {},
   "outputs": [
    {
     "name": "stdout",
     "output_type": "stream",
     "text": [
      "Selected feature 1: 391, validation accuracy: 0.2273\n",
      "Selected feature 2: 366, validation accuracy: 0.3363\n",
      "Selected feature 3: 220, validation accuracy: 0.4094\n",
      "Selected feature 4: 498, validation accuracy: 0.4667\n",
      "Selected feature 5: 307, validation accuracy: 0.5209\n",
      "Selected feature 6: 255, validation accuracy: 0.5592\n",
      "Selected feature 7: 168, validation accuracy: 0.591\n",
      "Selected feature 8: 609, validation accuracy: 0.6226\n",
      "Selected feature 9: 331, validation accuracy: 0.6419\n",
      "Selected feature 10: 551, validation accuracy: 0.6649\n",
      "Selected feature 11: 414, validation accuracy: 0.6902\n",
      "Selected feature 12: 225, validation accuracy: 0.7057\n",
      "Selected feature 13: 472, validation accuracy: 0.7204\n",
      "Selected feature 14: 506, validation accuracy: 0.7357\n",
      "Selected feature 15: 257, validation accuracy: 0.7439\n",
      "Selected feature 16: 362, validation accuracy: 0.7524\n",
      "Selected feature 17: 110, validation accuracy: 0.7601\n",
      "Selected feature 18: 329, validation accuracy: 0.7687\n",
      "Selected feature 19: 276, validation accuracy: 0.7731\n",
      "Selected feature 20: 224, validation accuracy: 0.7799\n",
      "Selected feature 21: 443, validation accuracy: 0.7875\n",
      "Selected feature 22: 135, validation accuracy: 0.7896\n",
      "Selected feature 23: 281, validation accuracy: 0.7946\n",
      "Selected feature 24: 172, validation accuracy: 0.7984\n",
      "Selected feature 25: 529, validation accuracy: 0.8016\n",
      "Selected feature 26: 139, validation accuracy: 0.8044\n",
      "Selected feature 27: 218, validation accuracy: 0.8074\n",
      "Selected feature 28: 440, validation accuracy: 0.8095\n",
      "Selected feature 29: 473, validation accuracy: 0.8133\n",
      "Selected feature 30: 196, validation accuracy: 0.8163\n",
      "Selected feature 31: 360, validation accuracy: 0.8182\n",
      "Selected feature 32: 251, validation accuracy: 0.8208\n",
      "Selected feature 33: 227, validation accuracy: 0.8224\n",
      "Selected feature 34: 334, validation accuracy: 0.8241\n",
      "Selected feature 35: 531, validation accuracy: 0.8253\n",
      "Selected feature 36: 173, validation accuracy: 0.826\n",
      "Selected feature 37: 453, validation accuracy: 0.8275\n",
      "Selected feature 38: 253, validation accuracy: 0.8291\n",
      "Selected feature 39: 244, validation accuracy: 0.8306\n",
      "Selected feature 40: 321, validation accuracy: 0.8318\n",
      "Final accuracy on the test set using 40 features: 0.8318\n"
     ]
    }
   ],
   "source": [
    "# Perform forward feature selection\n",
    "selected_features, accuracy_list, num_selected_features_list = forwad_selection(x_train, y_train, x_test, y_test)"
   ]
  },
  {
   "cell_type": "markdown",
   "id": "96483a12",
   "metadata": {},
   "source": [
    "## Visualization"
   ]
  },
  {
   "cell_type": "code",
   "execution_count": 9,
   "id": "abc1e530",
   "metadata": {},
   "outputs": [],
   "source": [
    "\n",
    "def plot_CCR(num_selected_features_list, accuracy_list):\n",
    "    \"\"\"\n",
    "    This function plots the correct classification rate as a function of the number of selected features.\n",
    "    \"\"\"\n",
    "    plt.plot(num_selected_features_list, accuracy_list)\n",
    "    plt.xlabel(\"Number of selected features\")\n",
    "    plt.ylabel(\"Correct classification rate\")\n",
    "    plt.title(\"Optimal number of features\")\n",
    "    plt.show()"
   ]
  },
  {
   "cell_type": "code",
   "execution_count": 10,
   "id": "21247f2a",
   "metadata": {},
   "outputs": [
    {
     "data": {
      "image/png": "[encoded data removed]",
      "text/plain": [
       "<Figure size 432x288 with 1 Axes>"
      ]
     },
     "metadata": {
      "needs_background": "light"
     },
     "output_type": "display_data"
    }
   ],
   "source": [
    "plot_CCR(num_selected_features_list, accuracy_list)"
   ]
  },
  {
   "cell_type": "markdown",
   "id": "aecee7c7",
   "metadata": {},
   "source": [
    "### Confusion Matrix"
   ]
  },
  {
   "cell_type": "code",
   "execution_count": 12,
   "id": "370d50f7",
   "metadata": {},
   "outputs": [
    {
     "ename": "NameError",
     "evalue": "name 'nb_model' is not defined",
     "output_type": "error",
     "traceback": [
      "\u001b[1;31m---------------------------------------------------------------------------\u001b[0m",
      "\u001b[1;31mNameError\u001b[0m                                 Traceback (most recent call last)",
      "\u001b[1;32mC:\\Users\\REZAHA~1\\AppData\\Local\\Temp/ipykernel_28480/1529023754.py\u001b[0m in \u001b[0;36m<module>\u001b[1;34m\u001b[0m\n\u001b[0;32m      3\u001b[0m \u001b[1;33m\u001b[0m\u001b[0m\n\u001b[0;32m      4\u001b[0m \u001b[1;31m# Predict the test set results\u001b[0m\u001b[1;33m\u001b[0m\u001b[1;33m\u001b[0m\u001b[0m\n\u001b[1;32m----> 5\u001b[1;33m \u001b[0my_pred\u001b[0m \u001b[1;33m=\u001b[0m \u001b[0mnb_model\u001b[0m\u001b[1;33m.\u001b[0m\u001b[0mpredict\u001b[0m\u001b[1;33m(\u001b[0m\u001b[0mx_test_subset\u001b[0m\u001b[1;33m)\u001b[0m\u001b[1;33m\u001b[0m\u001b[0m\n\u001b[0m\u001b[0;32m      6\u001b[0m \u001b[1;33m\u001b[0m\u001b[0m\n\u001b[0;32m      7\u001b[0m \u001b[1;31m# Compute the confusion matrix\u001b[0m\u001b[1;33m\u001b[0m\u001b[1;33m\u001b[0m\u001b[0m\n",
      "\u001b[1;31mNameError\u001b[0m: name 'nb_model' is not defined"
     ]
    }
   ],
   "source": [
    "from sklearn.metrics import confusion_matrix, plot_confusion_matrix\n",
    "import seaborn as sns\n",
    "\n",
    "# Predict the test set results\n",
    "y_pred = nb_model.predict(x_test_subset)\n",
    "\n",
    "# Compute the confusion matrix\n",
    "cm = confusion_matrix(y_test, y_pred)\n",
    "\n",
    "# Plot the confusion matrix using seaborn\n",
    "plt.figure(figsize=(10,7))\n",
    "sns.heatmap(cm, annot=True, fmt='d')\n",
    "plt.xlabel('Predicted')\n",
    "plt.ylabel('Truth')\n",
    "plt.show()"
   ]
  },
  {
   "cell_type": "markdown",
   "id": "9e294c0b",
   "metadata": {},
   "source": [
    "### ROC Curve"
   ]
  },
  {
   "cell_type": "code",
   "execution_count": null,
   "id": "5dad599b",
   "metadata": {},
   "outputs": [],
   "source": [
    "from sklearn.metrics import roc_curve, auc\n",
    "from sklearn.preprocessing import label_binarize\n",
    "from sklearn.multiclass import OneVsRestClassifier\n",
    "import matplotlib.pyplot as plt\n",
    "\n",
    "# Binarize the output\n",
    "y = label_binarize(y_test, classes=[0, 1, 2, 3, 4, 5, 6, 7, 8, 9])\n",
    "n_classes = y.shape[1]\n",
    "\n",
    "# Learn to predict each class against the other\n",
    "classifier = OneVsRestClassifier(nb_model)\n",
    "y_score = classifier.fit(x_train_subset, y_train).predict_proba(x_test_subset)\n",
    "\n",
    "# Compute ROC curve and ROC area for each class\n",
    "fpr = dict()\n",
    "tpr = dict()\n",
    "roc_auc = dict()\n",
    "for i in range(n_classes):\n",
    "    fpr[i], tpr[i], _ = roc_curve(y_test[:, i], y_score[:, i])\n",
    "    roc_auc[i] = auc(fpr[i], tpr[i])\n",
    "\n",
    "# Plot of a ROC curve for a specific class\n",
    "for i in range(n_classes):\n",
    "    plt.figure()\n",
    "    plt.plot(fpr[i], tpr[i], label='ROC curve (area = %0.2f)' % roc_auc[i])\n",
    "    plt.plot([0, 1], [0, 1], 'k--')\n",
    "    plt.xlim([0.0, 1.0])\n",
    "    plt.ylim([0.0, 1.05])\n",
    "    plt.xlabel('False Positive Rate')\n",
    "    plt.ylabel('True Positive Rate')\n",
    "    plt.title('Receiver Operating Characteristic example')\n",
    "    plt.legend(loc=\"lower right\")\n",
    "    plt.show()"
   ]
  }
 ],
 "metadata": {
  "kernelspec": {
   "display_name": "Python 3 (ipykernel)",
   "language": "python",
   "name": "python3"
  },
  "language_info": {
   "codemirror_mode": {
    "name": "ipython",
    "version": 3
   },
   "file_extension": ".py",
   "mimetype": "text/x-python",
   "name": "python",
   "nbconvert_exporter": "python",
   "pygments_lexer": "ipython3",
   "version": "3.7.0"
  }
 },
 "nbformat": 4,
 "nbformat_minor": 5
}
