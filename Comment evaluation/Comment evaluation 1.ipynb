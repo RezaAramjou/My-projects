{
 "cells": [
  {
   "cell_type": "code",
   "execution_count": null,
   "id": "4c6690fa",
   "metadata": {},
   "outputs": [],
   "source": [
    "The final project of the second semester of the Iran University of Science and Technology in the field of computer science"
   ]
  },
  {
   "cell_type": "markdown",
   "id": "16b463c7",
   "metadata": {},
   "source": [
    "## Importing libraries"
   ]
  },
  {
   "cell_type": "code",
   "execution_count": 1,
   "id": "caa5afc7",
   "metadata": {},
   "outputs": [
    {
     "name": "stderr",
     "output_type": "stream",
     "text": [
      "UsageError: unrecognized arguments: # For inline backend\n"
     ]
    }
   ],
   "source": [
    "# Importing frequently used libraries\n",
    "import numpy as np  # For numerical operations\n",
    "import pandas as pd  # For data manipulation and analysis\n",
    "import tensorflow as tf  # For machine learning and neural networks\n",
    "import pickle  # For serializing and de-serializing Python object structures\n",
    "from tensorflow import keras  # For neural networks\n",
    "from tensorflow.keras.models import Sequential, Model, load_model  # For sequential and functional API models\n",
    "from tensorflow.keras.layers import Activation, Dense, Flatten, BatchNormalization, Conv2D, MaxPool2D, Dropout, InputLayer  # For different types of layers in a neural network\n",
    "from tensorflow.keras.optimizers import Adam  # For the Adam optimizer\n",
    "from tensorflow.keras.metrics import categorical_crossentropy, MeanSquaredError  # For different types of loss functions\n",
    "from tensorflow.keras.preprocessing.image import ImageDataGenerator  # For real-time data augmentation\n",
    "from tensorflow.keras.utils import to_categorical  # For one-hot encoding\n",
    "from tensorflow.keras.datasets import cifar100  # CIFAR-100 dataset\n",
    "from sklearn.metrics import confusion_matrix  # For creating a confusion matrix\n",
    "from sklearn.model_selection import train_test_split  # For splitting the data into train and test sets\n",
    "from sklearn.model_selection import KFold  # For K-Fold cross validation\n",
    "import itertools  # For creating iterators for efficient looping\n",
    "import os  # For interacting with the OS\n",
    "import shutil  # For high-level file operations\n",
    "import torch  # PyTorch library for machine learning\n",
    "import random  # For generating random numbers\n",
    "import glob  # For finding all the pathnames matching a specified pattern\n",
    "import matplotlib.pyplot as plt  # For creating static, animated, and interactive visualizations in Python\n",
    "import warnings  # For warning control\n",
    "import tensorflow.keras.applications.efficientnet as efn  # For EfficientNet model\n",
    "warnings.simplefilter(action='ignore', category=FutureWarning)  # Ignore future warnings\n",
    "%matplotlib inline  # For inline backend\n",
    "\n",
    "\n",
    "# Import the necessary module from the sklearn library\n",
    "from sklearn.feature_extraction.text import TfidfTransformer\n",
    "\n",
    "# The TfidfTransformer is used to transform a count matrix to a normalized tf-idf representation\n",
    "# tf-idf stands for term frequency-inverse document frequency, which are the components of the resulting scores assigned to each word.\n",
    "# Term Frequency: This summarizes how often a given word appears within a document.\n",
    "# Inverse Document Frequency: This downscales words that appear a lot across documents.\n",
    "\n",
    "# Create an instance of TfidfTransformer\n",
    "# By default, it applies \"l2\" normalization which means the output rows will have unit norm.\n",
    "# The \"smooth_idf=False\" means the formula does not add one to the document frequencies, as if an extra document was seen containing every term in the collection exactly once, which prevents zero divisions.\n",
    "tfidf_transformer = TfidfTransformer(smooth_idf=False)\n",
    "\n",
    "# Now, you can use the `fit` and `transform` methods of this instance on your data.\n",
    "# For example:\n",
    "# tfidf_transformer.fit(raw_data)\n",
    "# tfidf_data = tfidf_transformer.transform(raw_data)"
   ]
  },
  {
   "cell_type": "markdown",
   "id": "a1d069d7",
   "metadata": {},
   "source": [
    "## Importing data"
   ]
  },
  {
   "cell_type": "code",
   "execution_count": 2,
   "id": "b9b7a54f",
   "metadata": {},
   "outputs": [],
   "source": [
    "# The `read_csv` function is used to read a CSV (comma-separated values) file into DataFrame.\n",
    "# The file path is passed as a raw string to the function.\n",
    "\n",
    "# Define the file path\n",
    "file_path = r'C:\\Users\\RezaHardMan\\Documents\\Python projects\\myLearningProject\\Jafar\\Amazon_DataSet.csv'\n",
    "\n",
    "# Read the CSV data file into a pandas DataFrame\n",
    "# A DataFrame is a 2-dimensional labeled data structure with columns of potentially different types.\n",
    "# Here, 'amazon_df' is the DataFrame where the content of the csv file is stored.\n",
    "amazon_df = pd.read_csv(file_path)\n",
    "\n",
    "# Now, 'amazon_df' contains the data from the 'Amazon_DataSet.csv' file and you can perform operations on this DataFrame.\n",
    "# For example, to view the first 5 rows of the DataFrame, you can use: print(amazon_df.head())\n"
   ]
  },
  {
   "cell_type": "code",
   "execution_count": 2,
   "id": "84e6a705",
   "metadata": {},
   "outputs": [
    {
     "data": {
      "text/html": [
       "<div>\n",
       "<style scoped>\n",
       "    .dataframe tbody tr th:only-of-type {\n",
       "        vertical-align: middle;\n",
       "    }\n",
       "\n",
       "    .dataframe tbody tr th {\n",
       "        vertical-align: top;\n",
       "    }\n",
       "\n",
       "    .dataframe thead th {\n",
       "        text-align: right;\n",
       "    }\n",
       "</style>\n",
       "<table border=\"1\" class=\"dataframe\">\n",
       "  <thead>\n",
       "    <tr style=\"text-align: right;\">\n",
       "      <th></th>\n",
       "      <th>reviewText</th>\n",
       "      <th>Sentiment</th>\n",
       "    </tr>\n",
       "  </thead>\n",
       "  <tbody>\n",
       "    <tr>\n",
       "      <th>0</th>\n",
       "      <td>This is a one of the best apps acording to a b...</td>\n",
       "      <td>Positive</td>\n",
       "    </tr>\n",
       "    <tr>\n",
       "      <th>1</th>\n",
       "      <td>This is a pretty good version of the game for ...</td>\n",
       "      <td>Positive</td>\n",
       "    </tr>\n",
       "    <tr>\n",
       "      <th>2</th>\n",
       "      <td>this is a really cool game. there are a bunch ...</td>\n",
       "      <td>Positive</td>\n",
       "    </tr>\n",
       "    <tr>\n",
       "      <th>3</th>\n",
       "      <td>This is a silly game and can be frustrating, b...</td>\n",
       "      <td>Positive</td>\n",
       "    </tr>\n",
       "    <tr>\n",
       "      <th>4</th>\n",
       "      <td>This is a terrific game on any pad. Hrs of fun...</td>\n",
       "      <td>Positive</td>\n",
       "    </tr>\n",
       "  </tbody>\n",
       "</table>\n",
       "</div>"
      ],
      "text/plain": [
       "                                          reviewText Sentiment\n",
       "0  This is a one of the best apps acording to a b...  Positive\n",
       "1  This is a pretty good version of the game for ...  Positive\n",
       "2  this is a really cool game. there are a bunch ...  Positive\n",
       "3  This is a silly game and can be frustrating, b...  Positive\n",
       "4  This is a terrific game on any pad. Hrs of fun...  Positive"
      ]
     },
     "execution_count": 2,
     "metadata": {},
     "output_type": "execute_result"
    }
   ],
   "source": [
    "# The 'head' function is used to get the first n rows of a DataFrame.\n",
    "# By default, it returns the first 5 rows. You can specify a different number as an argument if you want more (or fewer) rows.\n",
    "\n",
    "# Here, we're using it without any arguments, so it will return the first 5 rows of the DataFrame 'amazon_df'.\n",
    "first_rows = amazon_df.head()\n",
    "\n",
    "# Now, 'first_rows' contains the first 5 rows of 'amazon_df'.\n",
    "# You can print this variable to see its contents.\n",
    "print(first_rows)"
   ]
  },
  {
   "cell_type": "markdown",
   "id": "5130fbe5",
   "metadata": {},
   "source": [
    "## Label Normalization"
   ]
  },
  {
   "cell_type": "code",
   "execution_count": 4,
   "id": "830f59bb",
   "metadata": {},
   "outputs": [],
   "source": [
    "# Import the necessary modules from the sklearn library\n",
    "from sklearn import linear_model, preprocessing\n",
    "\n",
    "# LabelEncoder is a utility class to help normalize labels such that they contain only values between 0 and n_classes-1\n",
    "# This can be useful for writing efficient Cython routines\n",
    "le = preprocessing.LabelEncoder() \n",
    "\n",
    "# Here we fit label encoder and return encoded labels\n",
    "# 'fit_transform' is a function that fits label encoder and return encoded labels\n",
    "# In this case, we're transforming the 'Sentiment' column of the 'amazon_df' DataFrame\n",
    "amazon_df['Sentiment'] = le.fit_transform(amazon_df[\"Sentiment\"])\n",
    "\n",
    "# Now, 'Sentiment' column in 'amazon_df' has been transformed from categorical data to numerical data\n",
    "\n",
    "# We're setting 'X' to be the 'reviewText' column of 'amazon_df'\n",
    "# This will be our feature set\n",
    "X = amazon_df[\"reviewText\"]\n",
    "\n",
    "# We're setting 'y' to be the 'Sentiment' column of 'amazon_df'\n",
    "# This will be our target variable\n",
    "y = amazon_df[\"Sentiment\"]\n"
   ]
  },
  {
   "cell_type": "code",
   "execution_count": 7,
   "id": "87d2d5c5",
   "metadata": {},
   "outputs": [],
   "source": [
    "# Import the regular expression module\n",
    "import re\n",
    "\n",
    "def normalize(data):\n",
    "    # Initialize an empty list to store the normalized data\n",
    "    normalized = []\n",
    "\n",
    "    # Loop over each item in the data\n",
    "    for i in data:\n",
    "        # Convert the item to lowercase\n",
    "        i = i.lower()\n",
    "\n",
    "        # Use a regular expression to remove any urls from the item\n",
    "        # 'https?://\\S+|www\\.\\S+' matches http, https, and www urls\n",
    "        i = re.sub('https?://\\S+|www\\.\\S+', '', i)\n",
    "\n",
    "        # Use a regular expression to replace non-word characters (anything other than a letter, digit or underscore) with a space\n",
    "        # '\\\\W' matches any non-word character\n",
    "        i = re.sub('\\\\W', ' ', i)\n",
    "\n",
    "        # Use a regular expression to remove newline characters\n",
    "        # '\\n' matches newline characters\n",
    "        i = re.sub('\\n', '', i)\n",
    "\n",
    "        # Use a regular expression to replace one or more spaces with a single space\n",
    "        # ' +' matches one or more spaces\n",
    "        i = re.sub(' +', ' ', i)\n",
    "\n",
    "        # Use a regular expression to remove leading spaces\n",
    "        # '^ ' matches a space at the start of the string\n",
    "        i = re.sub('^ ', '', i)\n",
    "\n",
    "        # Use a regular expression to remove trailing spaces\n",
    "        # ' $' matches a space at the end of the string\n",
    "        i = re.sub(' $', '', i)\n",
    "\n",
    "        # Add the normalized item to the list\n",
    "        normalized.append(i)\n",
    "\n",
    "    # Return the list of normalized items\n",
    "    return normalized\n",
    "\n",
    "# Call the normalize function on 'X'\n",
    "X = normalize(X)\n"
   ]
  },
  {
   "cell_type": "markdown",
   "id": "b6315216",
   "metadata": {},
   "source": [
    "## Training data"
   ]
  },
  {
   "cell_type": "code",
   "execution_count": 9,
   "id": "22fada18",
   "metadata": {},
   "outputs": [],
   "source": [
    "# Import the necessary modules from the sklearn library\n",
    "from sklearn.feature_extraction.text import CountVectorizer, TfidfTransformer\n",
    "\n",
    "# CountVectorizer converts a collection of text documents to a matrix of token counts\n",
    "# This implementation produces a sparse representation of the counts\n",
    "count_vect = CountVectorizer()\n",
    "\n",
    "# fit_transform learns the vocabulary dictionary and return term-document matrix\n",
    "# This is equivalent to fit followed by transform, but more efficiently implemented\n",
    "Xtt = count_vect.fit_transform(X)\n",
    "\n",
    "# TfidfTransformer transforms a count matrix to a normalized tf or tf-idf representation\n",
    "# When use_idf=False, the output is the term frequency (tf) in each document\n",
    "tf_transformer = TfidfTransformer(use_idf=False).fit(Xtt)\n",
    "\n",
    "# Now we transform our count-matrix to a tf-idf representation\n",
    "X = tf_transformer.transform(Xtt)\n",
    "\n",
    "# train_test_split is a function in Sklearn model selection for splitting data arrays into two subsets: \n",
    "# for training data and for testing data. With this function, you don't need to divide the dataset manually.\n",
    "# The testing subset is for building your model. \n",
    "# The testing subset is for using the model on unknown data to evaluate the performance of the model.\n",
    "# Here we're using 80% of the data for training and 20% for testing.\n",
    "X_train, X_test, y_train, y_test = train_test_split(X, y, test_size=0.2)"
   ]
  },
  {
   "cell_type": "code",
   "execution_count": 10,
   "id": "6960ec43",
   "metadata": {},
   "outputs": [],
   "source": [
    "# Import the necessary module from the sklearn library\n",
    "from sklearn.naive_bayes import MultinomialNB\n",
    "\n",
    "# MultinomialNB implements the naive Bayes algorithm for multinomially distributed data\n",
    "# It is one of the two classic naive Bayes variants used in text classification\n",
    "# The distribution is parametrized by vectors for each class, which is stored in the `coef_` attribute of the fitted object.\n",
    "# The `fit` function is used to train the algorithm on the data\n",
    "\n",
    "# Here we're creating an instance of MultinomialNB and fitting it to our training data\n",
    "# 'X_train' is the training data\n",
    "# 'y_train' are the labels for the training data\n",
    "clf = MultinomialNB().fit(X_train, y_train)"
   ]
  },
  {
   "cell_type": "code",
   "execution_count": 11,
   "id": "88e32439",
   "metadata": {},
   "outputs": [
    {
     "name": "stdout",
     "output_type": "stream",
     "text": [
      "Number of mislabeled points out of a total 4000 points : 950\n"
     ]
    }
   ],
   "source": [
    "# The 'predict' function of the classifier is used to predict the labels of the test data\n",
    "# Here we're using it to predict the labels of 'X_test'\n",
    "y_pred = clf.predict(X_test)\n",
    "\n",
    "# We're calculating the number of mislabeled points (i.e., the number of test points that were not correctly classified)\n",
    "# This is done by comparing the predicted labels ('y_pred') to the true labels ('y_test')\n",
    "# The '!=' operator returns a boolean array where 'True' indicates inequality (i.e., mislabeling)\n",
    "# The 'sum' function then counts the number of 'True' values (i.e., the number of mislabeled points)\n",
    "\n",
    "# We're then printing the number of mislabeled points and the total number of points\n",
    "# 'X_test.shape[0]' gives the total number of points (i.e., the number of rows in 'X_test')\n",
    "print(\"Number of mislabeled points out of a total %d points : %d\"\n",
    "     % (X_test.shape[0], (y_test != y_pred).sum()))"
   ]
  },
  {
   "cell_type": "code",
   "execution_count": 12,
   "id": "24402d5c",
   "metadata": {},
   "outputs": [],
   "source": [
    "# Import the necessary module from the sklearn library\n",
    "from sklearn.linear_model import SGDClassifier\n",
    "\n",
    "# SGDClassifier stands for Stochastic Gradient Descent Classifier\n",
    "# It implements regularized linear models with stochastic gradient descent (SGD) learning\n",
    "# It is well suited for large scale and sparse machine learning problems\n",
    "\n",
    "# Here we're creating an instance of SGDClassifier\n",
    "# 'loss' parameter determines the loss function to be used\n",
    "# 'hinge' loss gives a linear SVM\n",
    "# 'penalty' parameter determines the penalty (aka regularization term) to be used\n",
    "# 'l2' indicates that we should add half of the square of the L2 norm of the weight vector to the loss function\n",
    "# 'alpha' parameter is a constant that multiplies the regularization term\n",
    "# 'random_state' parameter is the seed of the pseudo random number generator to use when shuffling the data\n",
    "# 'max_iter' parameter determines the maximum number of passes over the training data (aka epochs)\n",
    "# 'tol' parameter is the stopping criterion\n",
    "model = SGDClassifier(loss='hinge', penalty='l2',\n",
    "    alpha=1e-5, random_state=42, max_iter=500, tol=None)\n",
    "\n",
    "# The 'fit' function is used to train the algorithm on the data\n",
    "# Here we're fitting the model to our training data\n",
    "# 'X_train' is the training data\n",
    "# 'y_train' are the labels for the training data\n",
    "model.fit(X_train, y_train)\n",
    "\n",
    "# The 'predict' function of the classifier is used to predict the labels of the test data\n",
    "# Here we're using it to predict the labels of 'X_test'\n",
    "y_pred2 = model.predict(X_test)"
   ]
  },
  {
   "cell_type": "code",
   "execution_count": 13,
   "id": "731dadd8",
   "metadata": {},
   "outputs": [
    {
     "name": "stdout",
     "output_type": "stream",
     "text": [
      "Number of mislabeled points out of a total 4000 points : 396\n"
     ]
    }
   ],
   "source": [
    "# We're calculating the number of mislabeled points (i.e., the number of test points that were not correctly classified)\n",
    "# This is done by comparing the predicted labels ('y_pred2') to the true labels ('y_test')\n",
    "# The '!=' operator returns a boolean array where 'True' indicates inequality (i.e., mislabeling)\n",
    "# The 'sum' function then counts the number of 'True' values (i.e., the number of mislabeled points)\n",
    "\n",
    "# We're then printing the number of mislabeled points and the total number of points\n",
    "# 'X_test.shape[0]' gives the total number of points (i.e., the number of rows in 'X_test')\n",
    "print(\"Number of mislabeled points out of a total %d points : %d\"\n",
    "     % (X_test.shape[0], (y_test != y_pred2).sum()))"
   ]
  },
  {
   "cell_type": "markdown",
   "id": "20277509",
   "metadata": {},
   "source": [
    "## Visualizing the Results"
   ]
  },
  {
   "cell_type": "code",
   "execution_count": 14,
   "id": "1554b860",
   "metadata": {},
   "outputs": [
    {
     "data": {
      "image/png": "[encoded data removed]",
      "text/plain": [
       "<Figure size 720x504 with 2 Axes>"
      ]
     },
     "metadata": {
      "needs_background": "light"
     },
     "output_type": "display_data"
    },
    {
     "data": {
      "image/png": "[encoded data removed]",
      "text/plain": [
       "<Figure size 720x504 with 2 Axes>"
      ]
     },
     "metadata": {
      "needs_background": "light"
     },
     "output_type": "display_data"
    }
   ],
   "source": [
    "# Import the necessary module from the sklearn library\n",
    "import seaborn as sns\n",
    "\n",
    "# Generate the confusion matrix for the first model (MultinomialNB)\n",
    "cm1 = confusion_matrix(y_test, y_pred)\n",
    "\n",
    "# Visualize the confusion matrix using seaborn\n",
    "plt.figure(figsize=(10,7))\n",
    "sns.heatmap(cm1, annot=True, fmt='d')\n",
    "plt.title('Confusion Matrix for MultinomialNB Model')\n",
    "plt.xlabel('Predicted')\n",
    "plt.ylabel('Truth')\n",
    "plt.show()\n",
    "\n",
    "# Generate the confusion matrix for the second model (SGDClassifier)\n",
    "cm2 = confusion_matrix(y_test, y_pred2)\n",
    "\n",
    "# Visualize the confusion matrix using seaborn\n",
    "plt.figure(figsize=(10,7))\n",
    "sns.heatmap(cm2, annot=True, fmt='d')\n",
    "plt.title('Confusion Matrix for SGDClassifier Model')\n",
    "plt.xlabel('Predicted')\n",
    "plt.ylabel('Truth')\n",
    "plt.show()\n"
   ]
  }
 ],
 "metadata": {
  "kernelspec": {
   "display_name": "Python 3 (ipykernel)",
   "language": "python",
   "name": "python3"
  },
  "language_info": {
   "codemirror_mode": {
    "name": "ipython",
    "version": 3
   },
   "file_extension": ".py",
   "mimetype": "text/x-python",
   "name": "python",
   "nbconvert_exporter": "python",
   "pygments_lexer": "ipython3",
   "version": "3.7.0"
  }
 },
 "nbformat": 4,
 "nbformat_minor": 5
}
